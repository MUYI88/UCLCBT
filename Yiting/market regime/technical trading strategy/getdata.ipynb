{
 "cells": [
  {
   "cell_type": "code",
   "execution_count": null,
   "metadata": {},
   "outputs": [],
   "source": [
    "# $ pip install cryptocmd # need installation firstly\n",
    "from cryptocmd import CmcScraper\n",
    "import requests\n",
    "import re\n",
    "import time\n",
    "import datetime\n",
    "import pandas as pd\n",
    "import numpy as np\n",
    "import json\n",
    "import tushare as ts"
   ]
  },
  {
   "cell_type": "code",
   "execution_count": null,
   "metadata": {},
   "outputs": [],
   "source": [
    "def get_data(date):\n",
    "    url1 = \"https://min-api.cryptocompare.com/data/histohour?fsym=XRP&tsym=USD&limit=2000&toTs={}\".format(date)\n",
    "    r = requests.get(url1)\n",
    "    ipdata = r.json()\n",
    "    return ipdata"
   ]
  },
  {
   "cell_type": "code",
   "execution_count": null,
   "metadata": {},
   "outputs": [],
   "source": [
    "def get_df(from_date, to_date):\n",
    "    date = to_date\n",
    "    holder = []\n",
    "    # While the earliest date returned is later than the earliest date requested, keep on querying the API\n",
    "    # and adding the results to a list.\n",
    "    while date > from_date:\n",
    "        data = get_data(date)\n",
    "        holder.append(pd.DataFrame(data['Data']))\n",
    "        date = data['TimeFrom']\n",
    "        # Join together all of the API queries in the list.\n",
    "        df = pd.concat(holder, axis = 0)\n",
    "        # Remove data points from before from_date\n",
    "        df = df[df['time']>from_date]\n",
    "        # Convert to timestamp to readable date format\n",
    "        df['time'] = pd.to_datetime(df['time'], unit='s')\n",
    "        # Make the DataFrame index the time\n",
    "        df.set_index('time', inplace=True)\n",
    "        # And sort it so its in time order\n",
    "        df.sort_index(ascending=False, inplace=True)\n",
    "    return df"
   ]
  },
  {
   "cell_type": "code",
   "execution_count": null,
   "metadata": {},
   "outputs": [],
   "source": [
    "#for hourly data #from the website of cryptocompare\n",
    "holder = []\n",
    "from_date = 1552431600 #2019.3.13 0:00\n",
    "to_date = 1560380400 # 2019.6.12 23:00\n",
    "\n",
    "\n",
    "holder.append(get_df(from_date, to_date))\n",
    "df = pd.concat(holder, axis = 1)\n",
    "df=df.sort_index()\n",
    "df.to_csv(\"/Users/yitingjiang/Desktop/df.csv\")"
   ]
  },
  {
   "cell_type": "code",
   "execution_count": null,
   "metadata": {},
   "outputs": [],
   "source": [
    "#for daily data #from the website of coinmarketcap\n",
    "\n",
    "# initialise scraper\n",
    "scraper = CmcScraper('XRP', '2-12-2018', '12-6-2019')\n",
    "\n",
    "# get data as list of list\n",
    "headers, data = scraper.get_data()\n",
    "\n",
    "xrp_json_data=scraper.get_data('json')\n",
    "\n",
    "# export the data to csv\n",
    "scraper.export('csv',name='ripple')\n",
    "\n",
    "# get dataframe for the data\n",
    "dff = scraper.get_dataframe()"
   ]
  }
 ],
 "metadata": {
  "kernelspec": {
   "display_name": "Python 3",
   "language": "python",
   "name": "python3"
  },
  "language_info": {
   "codemirror_mode": {
    "name": "ipython",
    "version": 3
   },
   "file_extension": ".py",
   "mimetype": "text/x-python",
   "name": "python",
   "nbconvert_exporter": "python",
   "pygments_lexer": "ipython3",
   "version": "3.7.1"
  }
 },
 "nbformat": 4,
 "nbformat_minor": 2
}
